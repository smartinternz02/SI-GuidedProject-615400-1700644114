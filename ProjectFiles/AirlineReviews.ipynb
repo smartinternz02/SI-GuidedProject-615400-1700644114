{
 "cells": [
  {
   "cell_type": "markdown",
   "id": "42b5baa1-3518-41a2-8e78-5d605060137a",
   "metadata": {},
   "source": [
    "## Airline Review Classification"
   ]
  },
  {
   "cell_type": "code",
   "execution_count": 2,
   "id": "18265a31-b4c8-4edd-906d-d889beb23e4d",
   "metadata": {},
   "outputs": [],
   "source": [
    "import pandas as pd\n",
    "import numpy as np\n",
    "import matplotlib.pyplot as plt\n",
    "import seaborn as sns\n",
    "import spacy\n",
    "from sklearn.feature_extraction.text import TfidfVectorizer\n",
    "import tensorflow as tf\n",
    "from tensorflow import keras\n",
    "from sklearn.preprocessing import MinMaxScaler\n",
    "from sklearn.model_selection import train_test_split\n",
    "from sklearn.ensemble import RandomForestClassifier\n",
    "from sklearn.neighbors import KNeighborsClassifier\n",
    "from sklearn.linear_model import LogisticRegression\n",
    "from sklearn.tree import DecisionTreeClassifier\n",
    "from sklearn.metrics import accuracy_score, confusion_matrix\n",
    "from sklearn.metrics import classification_report\n",
    "import pickle"
   ]
  },
  {
   "cell_type": "code",
   "execution_count": 3,
   "id": "9da5595b-3bc9-407d-bfc3-875f428071b8",
   "metadata": {},
   "outputs": [
    {
     "data": {
      "text/html": [
       "<div>\n",
       "<style scoped>\n",
       "    .dataframe tbody tr th:only-of-type {\n",
       "        vertical-align: middle;\n",
       "    }\n",
       "\n",
       "    .dataframe tbody tr th {\n",
       "        vertical-align: top;\n",
       "    }\n",
       "\n",
       "    .dataframe thead th {\n",
       "        text-align: right;\n",
       "    }\n",
       "</style>\n",
       "<table border=\"1\" class=\"dataframe\">\n",
       "  <thead>\n",
       "    <tr style=\"text-align: right;\">\n",
       "      <th></th>\n",
       "      <th>Unnamed: 0</th>\n",
       "      <th>Airline Name</th>\n",
       "      <th>Overall_Rating</th>\n",
       "      <th>Review_Title</th>\n",
       "      <th>Review Date</th>\n",
       "      <th>Verified</th>\n",
       "      <th>Review</th>\n",
       "      <th>Aircraft</th>\n",
       "      <th>Type Of Traveller</th>\n",
       "      <th>Seat Type</th>\n",
       "      <th>Route</th>\n",
       "      <th>Date Flown</th>\n",
       "      <th>Seat Comfort</th>\n",
       "      <th>Cabin Staff Service</th>\n",
       "      <th>Food &amp; Beverages</th>\n",
       "      <th>Ground Service</th>\n",
       "      <th>Inflight Entertainment</th>\n",
       "      <th>Wifi &amp; Connectivity</th>\n",
       "      <th>Value For Money</th>\n",
       "      <th>Recommended</th>\n",
       "    </tr>\n",
       "  </thead>\n",
       "  <tbody>\n",
       "    <tr>\n",
       "      <th>0</th>\n",
       "      <td>0</td>\n",
       "      <td>AB Aviation</td>\n",
       "      <td>9</td>\n",
       "      <td>\"pretty decent airline\"</td>\n",
       "      <td>11th November 2019</td>\n",
       "      <td>True</td>\n",
       "      <td>Moroni to Moheli. Turned out to be a pretty ...</td>\n",
       "      <td>NaN</td>\n",
       "      <td>Solo Leisure</td>\n",
       "      <td>Economy Class</td>\n",
       "      <td>Moroni to Moheli</td>\n",
       "      <td>Nov-19</td>\n",
       "      <td>4.0</td>\n",
       "      <td>5.0</td>\n",
       "      <td>4.0</td>\n",
       "      <td>4.0</td>\n",
       "      <td>NaN</td>\n",
       "      <td>NaN</td>\n",
       "      <td>3.0</td>\n",
       "      <td>yes</td>\n",
       "    </tr>\n",
       "    <tr>\n",
       "      <th>1</th>\n",
       "      <td>1</td>\n",
       "      <td>AB Aviation</td>\n",
       "      <td>1</td>\n",
       "      <td>\"Not a good airline\"</td>\n",
       "      <td>25th June 2019</td>\n",
       "      <td>True</td>\n",
       "      <td>Moroni to Anjouan. It is a very small airline...</td>\n",
       "      <td>E120</td>\n",
       "      <td>Solo Leisure</td>\n",
       "      <td>Economy Class</td>\n",
       "      <td>Moroni to Anjouan</td>\n",
       "      <td>Jun-19</td>\n",
       "      <td>2.0</td>\n",
       "      <td>2.0</td>\n",
       "      <td>1.0</td>\n",
       "      <td>1.0</td>\n",
       "      <td>NaN</td>\n",
       "      <td>NaN</td>\n",
       "      <td>2.0</td>\n",
       "      <td>no</td>\n",
       "    </tr>\n",
       "    <tr>\n",
       "      <th>2</th>\n",
       "      <td>2</td>\n",
       "      <td>AB Aviation</td>\n",
       "      <td>1</td>\n",
       "      <td>\"flight was fortunately short\"</td>\n",
       "      <td>25th June 2019</td>\n",
       "      <td>True</td>\n",
       "      <td>Anjouan to Dzaoudzi. A very small airline an...</td>\n",
       "      <td>Embraer E120</td>\n",
       "      <td>Solo Leisure</td>\n",
       "      <td>Economy Class</td>\n",
       "      <td>Anjouan to Dzaoudzi</td>\n",
       "      <td>Jun-19</td>\n",
       "      <td>2.0</td>\n",
       "      <td>1.0</td>\n",
       "      <td>1.0</td>\n",
       "      <td>1.0</td>\n",
       "      <td>NaN</td>\n",
       "      <td>NaN</td>\n",
       "      <td>2.0</td>\n",
       "      <td>no</td>\n",
       "    </tr>\n",
       "  </tbody>\n",
       "</table>\n",
       "</div>"
      ],
      "text/plain": [
       "   Unnamed: 0 Airline Name Overall_Rating                    Review_Title  \\\n",
       "0           0  AB Aviation              9         \"pretty decent airline\"   \n",
       "1           1  AB Aviation              1            \"Not a good airline\"   \n",
       "2           2  AB Aviation              1  \"flight was fortunately short\"   \n",
       "\n",
       "          Review Date  Verified  \\\n",
       "0  11th November 2019      True   \n",
       "1      25th June 2019      True   \n",
       "2      25th June 2019      True   \n",
       "\n",
       "                                              Review       Aircraft  \\\n",
       "0    Moroni to Moheli. Turned out to be a pretty ...            NaN   \n",
       "1   Moroni to Anjouan. It is a very small airline...           E120   \n",
       "2    Anjouan to Dzaoudzi. A very small airline an...  Embraer E120    \n",
       "\n",
       "  Type Of Traveller      Seat Type                Route Date Flown  \\\n",
       "0      Solo Leisure  Economy Class     Moroni to Moheli     Nov-19   \n",
       "1      Solo Leisure  Economy Class    Moroni to Anjouan     Jun-19   \n",
       "2      Solo Leisure  Economy Class  Anjouan to Dzaoudzi     Jun-19   \n",
       "\n",
       "   Seat Comfort  Cabin Staff Service  Food & Beverages  Ground Service  \\\n",
       "0           4.0                  5.0               4.0             4.0   \n",
       "1           2.0                  2.0               1.0             1.0   \n",
       "2           2.0                  1.0               1.0             1.0   \n",
       "\n",
       "   Inflight Entertainment  Wifi & Connectivity  Value For Money Recommended  \n",
       "0                     NaN                  NaN              3.0         yes  \n",
       "1                     NaN                  NaN              2.0          no  \n",
       "2                     NaN                  NaN              2.0          no  "
      ]
     },
     "execution_count": 3,
     "metadata": {},
     "output_type": "execute_result"
    }
   ],
   "source": [
    "df=pd.read_csv(r\"D:\\MachineLearning\\DataScienceCourse\\Airline_review.csv\")\n",
    "df.head(3)"
   ]
  },
  {
   "cell_type": "code",
   "execution_count": 4,
   "id": "aace82ed-4a1d-4efc-ada0-ce1adc62e45b",
   "metadata": {},
   "outputs": [
    {
     "name": "stdout",
     "output_type": "stream",
     "text": [
      "<class 'pandas.core.frame.DataFrame'>\n",
      "RangeIndex: 23171 entries, 0 to 23170\n",
      "Data columns (total 20 columns):\n",
      " #   Column                  Non-Null Count  Dtype  \n",
      "---  ------                  --------------  -----  \n",
      " 0   Unnamed: 0              23171 non-null  int64  \n",
      " 1   Airline Name            23171 non-null  object \n",
      " 2   Overall_Rating          23171 non-null  object \n",
      " 3   Review_Title            23171 non-null  object \n",
      " 4   Review Date             23171 non-null  object \n",
      " 5   Verified                23171 non-null  bool   \n",
      " 6   Review                  23171 non-null  object \n",
      " 7   Aircraft                7129 non-null   object \n",
      " 8   Type Of Traveller       19433 non-null  object \n",
      " 9   Seat Type               22075 non-null  object \n",
      " 10  Route                   19343 non-null  object \n",
      " 11  Date Flown              19417 non-null  object \n",
      " 12  Seat Comfort            19016 non-null  float64\n",
      " 13  Cabin Staff Service     18911 non-null  float64\n",
      " 14  Food & Beverages        14500 non-null  float64\n",
      " 15  Ground Service          18378 non-null  float64\n",
      " 16  Inflight Entertainment  10829 non-null  float64\n",
      " 17  Wifi & Connectivity     5920 non-null   float64\n",
      " 18  Value For Money         22105 non-null  float64\n",
      " 19  Recommended             23171 non-null  object \n",
      "dtypes: bool(1), float64(7), int64(1), object(11)\n",
      "memory usage: 3.4+ MB\n"
     ]
    }
   ],
   "source": [
    "df.info()"
   ]
  },
  {
   "cell_type": "code",
   "execution_count": 5,
   "id": "5d89956c-bf2e-4d30-bcf8-1c4e2a8bbcc3",
   "metadata": {},
   "outputs": [],
   "source": [
    "df.drop(\"Unnamed: 0\",axis=1,inplace=True)\n",
    "df.drop(\"Date Flown\",axis=1,inplace=True)"
   ]
  },
  {
   "cell_type": "code",
   "execution_count": 6,
   "id": "7e67d975-a404-4245-b66e-ee1a9198a663",
   "metadata": {},
   "outputs": [
    {
     "name": "stdout",
     "output_type": "stream",
     "text": [
      "<class 'pandas.core.frame.DataFrame'>\n",
      "RangeIndex: 23171 entries, 0 to 23170\n",
      "Data columns (total 18 columns):\n",
      " #   Column                  Non-Null Count  Dtype  \n",
      "---  ------                  --------------  -----  \n",
      " 0   Airline Name            23171 non-null  object \n",
      " 1   Overall_Rating          23171 non-null  object \n",
      " 2   Review_Title            23171 non-null  object \n",
      " 3   Review Date             23171 non-null  object \n",
      " 4   Verified                23171 non-null  bool   \n",
      " 5   Review                  23171 non-null  object \n",
      " 6   Aircraft                7129 non-null   object \n",
      " 7   Type Of Traveller       19433 non-null  object \n",
      " 8   Seat Type               22075 non-null  object \n",
      " 9   Route                   19343 non-null  object \n",
      " 10  Seat Comfort            19016 non-null  float64\n",
      " 11  Cabin Staff Service     18911 non-null  float64\n",
      " 12  Food & Beverages        14500 non-null  float64\n",
      " 13  Ground Service          18378 non-null  float64\n",
      " 14  Inflight Entertainment  10829 non-null  float64\n",
      " 15  Wifi & Connectivity     5920 non-null   float64\n",
      " 16  Value For Money         22105 non-null  float64\n",
      " 17  Recommended             23171 non-null  object \n",
      "dtypes: bool(1), float64(7), object(10)\n",
      "memory usage: 3.0+ MB\n"
     ]
    }
   ],
   "source": [
    "df.info()"
   ]
  },
  {
   "cell_type": "code",
   "execution_count": 7,
   "id": "729ae720-6f31-4c71-9b82-e14bf07c2a53",
   "metadata": {},
   "outputs": [
    {
     "data": {
      "text/plain": [
       "False    23051\n",
       "True       120\n",
       "Name: count, dtype: int64"
      ]
     },
     "execution_count": 7,
     "metadata": {},
     "output_type": "execute_result"
    }
   ],
   "source": [
    "# Checking duplicate rows:\n",
    "df.duplicated().value_counts()"
   ]
  },
  {
   "cell_type": "code",
   "execution_count": 8,
   "id": "efe15968-8829-4111-8c92-9ece04fea53e",
   "metadata": {},
   "outputs": [],
   "source": [
    "df = df.drop_duplicates().reset_index(drop=True)"
   ]
  },
  {
   "cell_type": "code",
   "execution_count": 9,
   "id": "553f91ba-d5bb-4bcf-82d6-91526b347d86",
   "metadata": {},
   "outputs": [
    {
     "name": "stdout",
     "output_type": "stream",
     "text": [
      "<class 'pandas.core.frame.DataFrame'>\n",
      "RangeIndex: 23051 entries, 0 to 23050\n",
      "Data columns (total 18 columns):\n",
      " #   Column                  Non-Null Count  Dtype  \n",
      "---  ------                  --------------  -----  \n",
      " 0   Airline Name            23051 non-null  object \n",
      " 1   Overall_Rating          23051 non-null  object \n",
      " 2   Review_Title            23051 non-null  object \n",
      " 3   Review Date             23051 non-null  object \n",
      " 4   Verified                23051 non-null  bool   \n",
      " 5   Review                  23051 non-null  object \n",
      " 6   Aircraft                7127 non-null   object \n",
      " 7   Type Of Traveller       19424 non-null  object \n",
      " 8   Seat Type               22062 non-null  object \n",
      " 9   Route                   19335 non-null  object \n",
      " 10  Seat Comfort            19007 non-null  float64\n",
      " 11  Cabin Staff Service     18902 non-null  float64\n",
      " 12  Food & Beverages        14496 non-null  float64\n",
      " 13  Ground Service          18369 non-null  float64\n",
      " 14  Inflight Entertainment  10827 non-null  float64\n",
      " 15  Wifi & Connectivity     5918 non-null   float64\n",
      " 16  Value For Money         22092 non-null  float64\n",
      " 17  Recommended             23051 non-null  object \n",
      "dtypes: bool(1), float64(7), object(10)\n",
      "memory usage: 3.0+ MB\n"
     ]
    }
   ],
   "source": [
    "df.info()"
   ]
  },
  {
   "cell_type": "code",
   "execution_count": 10,
   "id": "45a836c0-01b4-4947-926b-ab30572d34d4",
   "metadata": {},
   "outputs": [
    {
     "data": {
      "text/plain": [
       "False    23051\n",
       "Name: count, dtype: int64"
      ]
     },
     "execution_count": 10,
     "metadata": {},
     "output_type": "execute_result"
    }
   ],
   "source": [
    "df.duplicated().value_counts()"
   ]
  },
  {
   "cell_type": "code",
   "execution_count": 11,
   "id": "529657c9-2f75-492d-9919-b7389eb07ec9",
   "metadata": {},
   "outputs": [],
   "source": [
    "# For categorical columns\n",
    "df['Aircraft']=df['Aircraft'].fillna(df['Aircraft'].mode().iloc[0])\n",
    "df['Type Of Traveller']=df['Type Of Traveller'].fillna(df['Type Of Traveller'].mode().iloc[0])\n",
    "df['Seat Type']=df['Seat Type'].fillna(df['Seat Type'].mode().iloc[0])\n",
    "df['Route']=df['Route'].fillna(df['Route'].mode().iloc[0])"
   ]
  },
  {
   "cell_type": "code",
   "execution_count": 12,
   "id": "c76a9ab1-47cf-4cd9-adfb-e0bafe7b172c",
   "metadata": {},
   "outputs": [
    {
     "name": "stdout",
     "output_type": "stream",
     "text": [
      "<class 'pandas.core.frame.DataFrame'>\n",
      "RangeIndex: 23051 entries, 0 to 23050\n",
      "Data columns (total 18 columns):\n",
      " #   Column                  Non-Null Count  Dtype  \n",
      "---  ------                  --------------  -----  \n",
      " 0   Airline Name            23051 non-null  object \n",
      " 1   Overall_Rating          23051 non-null  object \n",
      " 2   Review_Title            23051 non-null  object \n",
      " 3   Review Date             23051 non-null  object \n",
      " 4   Verified                23051 non-null  bool   \n",
      " 5   Review                  23051 non-null  object \n",
      " 6   Aircraft                23051 non-null  object \n",
      " 7   Type Of Traveller       23051 non-null  object \n",
      " 8   Seat Type               23051 non-null  object \n",
      " 9   Route                   23051 non-null  object \n",
      " 10  Seat Comfort            19007 non-null  float64\n",
      " 11  Cabin Staff Service     18902 non-null  float64\n",
      " 12  Food & Beverages        14496 non-null  float64\n",
      " 13  Ground Service          18369 non-null  float64\n",
      " 14  Inflight Entertainment  10827 non-null  float64\n",
      " 15  Wifi & Connectivity     5918 non-null   float64\n",
      " 16  Value For Money         22092 non-null  float64\n",
      " 17  Recommended             23051 non-null  object \n",
      "dtypes: bool(1), float64(7), object(10)\n",
      "memory usage: 3.0+ MB\n"
     ]
    }
   ],
   "source": [
    "df.info()"
   ]
  },
  {
   "cell_type": "code",
   "execution_count": 13,
   "id": "e9d5e663-7e4f-4dd9-b9a8-c428af710ca1",
   "metadata": {},
   "outputs": [],
   "source": [
    "# For numerical columns\n",
    "l=['Seat Comfort','Cabin Staff Service','Food & Beverages','Ground Service','Inflight Entertainment','Wifi & Connectivity','Value For Money']\n",
    "for i in l:\n",
    "    df[i]=df[i].fillna(df[i].median())"
   ]
  },
  {
   "cell_type": "markdown",
   "id": "0f5a6715-b449-46bb-9f40-9a202c1f8d20",
   "metadata": {},
   "source": [
    "## EDA (Data Visualization):"
   ]
  },
  {
   "cell_type": "code",
   "execution_count": 27,
   "id": "019bfaef-c907-4785-9cbe-bdf051c84a76",
   "metadata": {},
   "outputs": [
    {
     "data": {
      "image/png": "[encoded data removed]",
      "text/plain": [
       "<Figure size 400x400 with 1 Axes>"
      ]
     },
     "metadata": {},
     "output_type": "display_data"
    }
   ],
   "source": [
    "# Verified Reviews\n",
    "plt.figure(figsize=(4, 4))\n",
    "sns.countplot(x='Verified', data=df)\n",
    "plt.title('Number of Verified Reviews')\n",
    "plt.xlabel('Verified')\n",
    "plt.ylabel('Count')\n",
    "plt.show()"
   ]
  },
  {
   "cell_type": "code",
   "execution_count": 24,
   "id": "51d9f687-bae9-4447-a02f-4dcce94347dd",
   "metadata": {},
   "outputs": [],
   "source": [
    "# Type of Traveller Distribution\n",
    "traveler_distribution = df['Type Of Traveller'].value_counts()"
   ]
  },
  {
   "cell_type": "code",
   "execution_count": 26,
   "id": "129d4b9e-d223-44c8-8f73-c20c25bd529b",
   "metadata": {},
   "outputs": [
    {
     "data": {
      "image/png": "[encoded data removed]",
      "text/plain": [
       "<Figure size 600x400 with 1 Axes>"
      ]
     },
     "metadata": {},
     "output_type": "display_data"
    }
   ],
   "source": [
    "# Distribution of types of Travellers\n",
    "plt.figure(figsize=(6, 4))\n",
    "traveler_distribution.plot(kind='pie', autopct='%1.1f%%')\n",
    "plt.title('Distribution of Types of Travellers')\n",
    "plt.ylabel('')\n",
    "plt.show()"
   ]
  },
  {
   "cell_type": "code",
   "execution_count": 30,
   "id": "0aff25a6-56e6-4dc3-8ed0-b94e94b998da",
   "metadata": {},
   "outputs": [
    {
     "data": {
      "image/png": "[encoded data removed]",
      "text/plain": [
       "<Figure size 400x400 with 1 Axes>"
      ]
     },
     "metadata": {},
     "output_type": "display_data"
    }
   ],
   "source": [
    "# Percetage of recommened reviews\n",
    "recommended_percentage = df['Recommended'].value_counts(normalize=True) * 100\n",
    "plt.figure(figsize=(4, 4))\n",
    "recommended_percentage.plot(kind='bar', rot=0)\n",
    "plt.title('Percentage of Recommended Reviews')\n",
    "plt.xlabel('Recommended')\n",
    "plt.ylabel('Percentage')\n",
    "plt.show()"
   ]
  },
  {
   "cell_type": "code",
   "execution_count": 33,
   "id": "f32ef024-57d2-4443-8e88-56fabf8c5ea8",
   "metadata": {},
   "outputs": [
    {
     "data": {
      "image/png": "[encoded data removed]",
      "text/plain": [
       "<Figure size 600x400 with 1 Axes>"
      ]
     },
     "metadata": {},
     "output_type": "display_data"
    }
   ],
   "source": [
    "# Histogram of Overall Ratings:\n",
    "plt.figure(figsize=(6, 4))\n",
    "sns.histplot(df['Overall_Rating'], bins=10, kde=True)\n",
    "plt.title('Distribution of Overall Ratings')\n",
    "plt.xlabel('Overall Rating')\n",
    "plt.ylabel('Frequency')\n",
    "plt.show()"
   ]
  },
  {
   "cell_type": "code",
   "execution_count": 40,
   "id": "3872ce2d-9801-4bee-9d56-3c9033ef7301",
   "metadata": {},
   "outputs": [
    {
     "name": "stderr",
     "output_type": "stream",
     "text": [
      "C:\\Users\\Vidul\\AppData\\Local\\Temp\\ipykernel_34468\\2586659521.py:5: FutureWarning: \n",
      "\n",
      "Passing `palette` without assigning `hue` is deprecated and will be removed in v0.14.0. Assign the `x` variable to `hue` and set `legend=False` for the same effect.\n",
      "\n",
      "  sns.barplot(x=top_routes.index, y=top_routes.values, palette=colors)\n"
     ]
    },
    {
     "data": {
      "text/plain": [
       "([0, 1, 2, 3, 4, 5, 6, 7, 8, 9],\n",
       " [Text(0, 0, 'Melbourne to Sydney'),\n",
       "  Text(1, 0, 'Sydney to Melbourne'),\n",
       "  Text(2, 0, 'Cape Town to Johannesburg'),\n",
       "  Text(3, 0, 'Cusco to Lima'),\n",
       "  Text(4, 0, 'Bangkok to Phuket'),\n",
       "  Text(5, 0, 'Johannesburg to Cape Town'),\n",
       "  Text(6, 0, 'Kuala Lumpur to Singapore'),\n",
       "  Text(7, 0, 'Bangkok to Chiang Mai'),\n",
       "  Text(8, 0, 'Johannesburg to Durban'),\n",
       "  Text(9, 0, 'Toronto to Calgary')])"
      ]
     },
     "execution_count": 40,
     "metadata": {},
     "output_type": "execute_result"
    },
    {
     "data": {
      "image/png": "[encoded data removed]",
      "text/plain": [
       "<Figure size 500x400 with 1 Axes>"
      ]
     },
     "metadata": {},
     "output_type": "display_data"
    }
   ],
   "source": [
    "# Bar Plot for Top Routes:\n",
    "top_routes = df['Route'].value_counts().head(10)\n",
    "plt.figure(figsize=(5, 4))\n",
    "colors = sns.color_palette(\"Set1\", len(top_routes))\n",
    "sns.barplot(x=top_routes.index, y=top_routes.values, palette=colors)\n",
    "plt.title('Top Routes by Review Count')\n",
    "plt.xlabel('Route')\n",
    "plt.ylabel('Review Count')\n",
    "plt.xticks(rotation=90)"
   ]
  },
  {
   "cell_type": "code",
   "execution_count": 42,
   "id": "de912e40-2172-45c7-b35a-6566a47e5808",
   "metadata": {},
   "outputs": [
    {
     "data": {
      "text/plain": [
       "<seaborn.axisgrid.PairGrid at 0x201094c2050>"
      ]
     },
     "execution_count": 42,
     "metadata": {},
     "output_type": "execute_result"
    },
    {
     "data": {
      "image/png": "[encoded data removed]",
      "text/plain": [
       "<Figure size 1000x1000 with 20 Axes>"
      ]
     },
     "metadata": {},
     "output_type": "display_data"
    }
   ],
   "source": [
    "# Pairwise Scatterplot for Correlation:\n",
    "sns.pairplot(df, vars=['Seat Comfort', 'Cabin Staff Service', 'Value For Money', 'Overall_Rating'])"
   ]
  },
  {
   "cell_type": "code",
   "execution_count": 43,
   "id": "fe548a70-8683-4187-91fb-b3e6399f7461",
   "metadata": {},
   "outputs": [],
   "source": [
    "## Removing unnecessary columns:\n",
    "df.drop(\"Route\",axis=1,inplace=True)\n",
    "df.drop(\"Aircraft\",axis=1,inplace=True)\n",
    "df.drop(\"Review Date\",axis=1,inplace=True)\n",
    "df.drop(\"Airline Name\",axis=1,inplace=True)\n"
   ]
  },
  {
   "cell_type": "markdown",
   "id": "d8d53d43-cc6c-43ee-8c55-8098764686b8",
   "metadata": {},
   "source": [
    "## Encoding"
   ]
  },
  {
   "cell_type": "code",
   "execution_count": 44,
   "id": "96a282e1-9821-4b68-8360-79c8aec218b6",
   "metadata": {},
   "outputs": [],
   "source": [
    "df['Verified']=df['Verified'].replace({'True':1,'False':0})\n",
    "df['Type Of Traveller']=df['Type Of Traveller'].replace({'Solo Leisure':1,'Couple Leisure':2,'Family Leisure':3,'Business':4})\n",
    "df['Seat Type']=df['Seat Type'].replace({'Economy Class':1,'Business Class':2,'Premium Economy':3,'First Class':4})\n",
    "df['Recommended']=df['Recommended'].replace({'yes':1,'no':0})\n",
    "\n",
    "df['Overall_Rating']=df['Overall_Rating'].replace('n',10)"
   ]
  },
  {
   "cell_type": "code",
   "execution_count": 45,
   "id": "841e7e19-9e23-46b2-998f-9e9fa4b66fbf",
   "metadata": {},
   "outputs": [],
   "source": [
    "df['Overall_Rating']=df['Overall_Rating'].astype(int)"
   ]
  },
  {
   "cell_type": "code",
   "execution_count": 46,
   "id": "4dc8bf23-8a0e-40ae-8523-bfc5a4498bbd",
   "metadata": {},
   "outputs": [
    {
     "data": {
      "text/html": [
       "<div>\n",
       "<style scoped>\n",
       "    .dataframe tbody tr th:only-of-type {\n",
       "        vertical-align: middle;\n",
       "    }\n",
       "\n",
       "    .dataframe tbody tr th {\n",
       "        vertical-align: top;\n",
       "    }\n",
       "\n",
       "    .dataframe thead th {\n",
       "        text-align: right;\n",
       "    }\n",
       "</style>\n",
       "<table border=\"1\" class=\"dataframe\">\n",
       "  <thead>\n",
       "    <tr style=\"text-align: right;\">\n",
       "      <th></th>\n",
       "      <th>Overall_Rating</th>\n",
       "      <th>Review_Title</th>\n",
       "      <th>Cabin Staff Service</th>\n",
       "      <th>Food &amp; Beverages</th>\n",
       "      <th>Recommended</th>\n",
       "    </tr>\n",
       "  </thead>\n",
       "  <tbody>\n",
       "    <tr>\n",
       "      <th>0</th>\n",
       "      <td>9</td>\n",
       "      <td>\"pretty decent airline\"</td>\n",
       "      <td>5.0</td>\n",
       "      <td>4.0</td>\n",
       "      <td>1</td>\n",
       "    </tr>\n",
       "    <tr>\n",
       "      <th>1</th>\n",
       "      <td>1</td>\n",
       "      <td>\"Not a good airline\"</td>\n",
       "      <td>2.0</td>\n",
       "      <td>1.0</td>\n",
       "      <td>0</td>\n",
       "    </tr>\n",
       "    <tr>\n",
       "      <th>2</th>\n",
       "      <td>1</td>\n",
       "      <td>\"flight was fortunately short\"</td>\n",
       "      <td>1.0</td>\n",
       "      <td>1.0</td>\n",
       "      <td>0</td>\n",
       "    </tr>\n",
       "  </tbody>\n",
       "</table>\n",
       "</div>"
      ],
      "text/plain": [
       "   Overall_Rating                    Review_Title  Cabin Staff Service  \\\n",
       "0               9         \"pretty decent airline\"                  5.0   \n",
       "1               1            \"Not a good airline\"                  2.0   \n",
       "2               1  \"flight was fortunately short\"                  1.0   \n",
       "\n",
       "   Food & Beverages  Recommended  \n",
       "0               4.0            1  \n",
       "1               1.0            0  \n",
       "2               1.0            0  "
      ]
     },
     "execution_count": 46,
     "metadata": {},
     "output_type": "execute_result"
    }
   ],
   "source": [
    "l=[\"Overall_Rating\",\"Review_Title\",\"Cabin Staff Service\",\"Food & Beverages\",\"Recommended\"]\n",
    "df=df[l]\n",
    "\n",
    "df.head(3)"
   ]
  },
  {
   "cell_type": "markdown",
   "id": "133f4a1e-1380-4d28-8659-bff6589982f0",
   "metadata": {},
   "source": [
    "## Preprocessing using spacy:"
   ]
  },
  {
   "cell_type": "code",
   "execution_count": 47,
   "id": "d37f96e3-a4c0-4c14-a483-13cf05dddea1",
   "metadata": {},
   "outputs": [
    {
     "name": "stderr",
     "output_type": "stream",
     "text": [
      "C:\\Users\\Vidul\\AppData\\Local\\Programs\\Python\\Python311\\Lib\\site-packages\\spacy\\util.py:910: UserWarning: [W095] Model 'en_core_web_sm' (3.6.0) was trained with spaCy v3.6.0 and may not be 100% compatible with the current version (3.7.2). If you see errors or degraded performance, download a newer compatible model or retrain your custom model with the current spaCy version. For more details and available updates, run: python -m spacy validate\n",
      "  warnings.warn(warn_msg)\n"
     ]
    }
   ],
   "source": [
    "nlp=spacy.load(\"en_core_web_sm\")"
   ]
  },
  {
   "cell_type": "code",
   "execution_count": 48,
   "id": "e3a18bcb-5e9a-4ea5-af97-7719267209c3",
   "metadata": {},
   "outputs": [],
   "source": [
    "# Important words (so that they are not lost)\n",
    "exceptions = [\"not\", \"never\", \"bad\", \"nice\", \"good\", \"great\", \"poor\", \"excellent\",\"no\"]\n",
    "def preprocess (text):\n",
    "    text = text.lower() # to convert to lowercase (so that we can add exceptions properly)\n",
    "    doc=nlp(text)\n",
    "    filtered_tokens=[]\n",
    "    for token in doc:\n",
    "        if token.text in exceptions:\n",
    "            filtered_tokens.append(token.text)\n",
    "        if token.is_stop or token.is_punct:\n",
    "            continue\n",
    "        filtered_tokens.append(token.lemma_)\n",
    "    return \" \".join(filtered_tokens)"
   ]
  },
  {
   "cell_type": "code",
   "execution_count": 49,
   "id": "cb451868-f591-4bc5-b485-3a27db0660d4",
   "metadata": {},
   "outputs": [
    {
     "name": "stderr",
     "output_type": "stream",
     "text": [
      "C:\\Users\\Vidul\\AppData\\Local\\Temp\\ipykernel_34468\\4282974474.py:1: SettingWithCopyWarning: \n",
      "A value is trying to be set on a copy of a slice from a DataFrame.\n",
      "Try using .loc[row_indexer,col_indexer] = value instead\n",
      "\n",
      "See the caveats in the documentation: https://pandas.pydata.org/pandas-docs/stable/user_guide/indexing.html#returning-a-view-versus-a-copy\n",
      "  df['Review']=df['Review_Title'].apply(lambda x: preprocess(x))\n"
     ]
    }
   ],
   "source": [
    "df['Review']=df['Review_Title'].apply(lambda x: preprocess(x))"
   ]
  },
  {
   "cell_type": "code",
   "execution_count": 50,
   "id": "fbea461c-1a61-4458-9a42-03b419e793d9",
   "metadata": {},
   "outputs": [
    {
     "data": {
      "text/html": [
       "<div>\n",
       "<style scoped>\n",
       "    .dataframe tbody tr th:only-of-type {\n",
       "        vertical-align: middle;\n",
       "    }\n",
       "\n",
       "    .dataframe tbody tr th {\n",
       "        vertical-align: top;\n",
       "    }\n",
       "\n",
       "    .dataframe thead th {\n",
       "        text-align: right;\n",
       "    }\n",
       "</style>\n",
       "<table border=\"1\" class=\"dataframe\">\n",
       "  <thead>\n",
       "    <tr style=\"text-align: right;\">\n",
       "      <th></th>\n",
       "      <th>Overall_Rating</th>\n",
       "      <th>Review_Title</th>\n",
       "      <th>Cabin Staff Service</th>\n",
       "      <th>Food &amp; Beverages</th>\n",
       "      <th>Recommended</th>\n",
       "      <th>Review</th>\n",
       "    </tr>\n",
       "  </thead>\n",
       "  <tbody>\n",
       "    <tr>\n",
       "      <th>0</th>\n",
       "      <td>9</td>\n",
       "      <td>\"pretty decent airline\"</td>\n",
       "      <td>5.0</td>\n",
       "      <td>4.0</td>\n",
       "      <td>1</td>\n",
       "      <td>pretty decent airline</td>\n",
       "    </tr>\n",
       "    <tr>\n",
       "      <th>1</th>\n",
       "      <td>1</td>\n",
       "      <td>\"Not a good airline\"</td>\n",
       "      <td>2.0</td>\n",
       "      <td>1.0</td>\n",
       "      <td>0</td>\n",
       "      <td>not good good airline</td>\n",
       "    </tr>\n",
       "    <tr>\n",
       "      <th>2</th>\n",
       "      <td>1</td>\n",
       "      <td>\"flight was fortunately short\"</td>\n",
       "      <td>1.0</td>\n",
       "      <td>1.0</td>\n",
       "      <td>0</td>\n",
       "      <td>flight fortunately short</td>\n",
       "    </tr>\n",
       "    <tr>\n",
       "      <th>3</th>\n",
       "      <td>1</td>\n",
       "      <td>\"I will never fly again with Adria\"</td>\n",
       "      <td>1.0</td>\n",
       "      <td>2.0</td>\n",
       "      <td>0</td>\n",
       "      <td>never fly adria</td>\n",
       "    </tr>\n",
       "    <tr>\n",
       "      <th>4</th>\n",
       "      <td>1</td>\n",
       "      <td>\"it ruined our last days of holidays\"</td>\n",
       "      <td>1.0</td>\n",
       "      <td>1.0</td>\n",
       "      <td>0</td>\n",
       "      <td>ruin day holiday</td>\n",
       "    </tr>\n",
       "  </tbody>\n",
       "</table>\n",
       "</div>"
      ],
      "text/plain": [
       "   Overall_Rating                           Review_Title  Cabin Staff Service  \\\n",
       "0               9                \"pretty decent airline\"                  5.0   \n",
       "1               1                   \"Not a good airline\"                  2.0   \n",
       "2               1         \"flight was fortunately short\"                  1.0   \n",
       "3               1    \"I will never fly again with Adria\"                  1.0   \n",
       "4               1  \"it ruined our last days of holidays\"                  1.0   \n",
       "\n",
       "   Food & Beverages  Recommended                    Review  \n",
       "0               4.0            1     pretty decent airline  \n",
       "1               1.0            0     not good good airline  \n",
       "2               1.0            0  flight fortunately short  \n",
       "3               2.0            0           never fly adria  \n",
       "4               1.0            0          ruin day holiday  "
      ]
     },
     "execution_count": 50,
     "metadata": {},
     "output_type": "execute_result"
    }
   ],
   "source": [
    "df.head(5)"
   ]
  },
  {
   "cell_type": "code",
   "execution_count": 51,
   "id": "2778c072-ef85-41c3-92e6-4df75f8d42df",
   "metadata": {},
   "outputs": [
    {
     "data": {
      "text/plain": [
       "Index(['Overall_Rating', 'Review_Title', 'Cabin Staff Service',\n",
       "       'Food & Beverages', 'Recommended', 'Review'],\n",
       "      dtype='object')"
      ]
     },
     "execution_count": 51,
     "metadata": {},
     "output_type": "execute_result"
    }
   ],
   "source": [
    "df.columns"
   ]
  },
  {
   "cell_type": "code",
   "execution_count": 52,
   "id": "728be645-b2ec-48d0-b272-2fe937302541",
   "metadata": {},
   "outputs": [],
   "source": [
    "df=df.rename(columns={'Cabin Staff Service': 'Cabin_Staff_Service', 'Food & Beverages': 'Food_Beverages'})"
   ]
  },
  {
   "cell_type": "markdown",
   "id": "a7050bcc-80ae-4be4-894c-816e49ba4bb4",
   "metadata": {},
   "source": [
    "## Text Vectorization"
   ]
  },
  {
   "cell_type": "code",
   "execution_count": 53,
   "id": "cd5de844-b132-4d1d-bb1d-c3817d028a8a",
   "metadata": {},
   "outputs": [],
   "source": [
    "v1=TfidfVectorizer()\n",
    "v1.fit(df[\"Review\"])\n",
    "rev_tfidf = v1.transform(df[\"Review\"])"
   ]
  },
  {
   "cell_type": "code",
   "execution_count": 54,
   "id": "e283d8fd-dc3e-4722-9011-c9e131d7199c",
   "metadata": {},
   "outputs": [
    {
     "data": {
      "text/plain": [
       "<23051x3892 sparse matrix of type '<class 'numpy.float64'>'\n",
       "\twith 68754 stored elements in Compressed Sparse Row format>"
      ]
     },
     "execution_count": 54,
     "metadata": {},
     "output_type": "execute_result"
    }
   ],
   "source": [
    "rev_tfidf"
   ]
  },
  {
   "cell_type": "code",
   "execution_count": 55,
   "id": "41526ab2-ba30-4b27-876b-f3ea4a1f6170",
   "metadata": {},
   "outputs": [
    {
     "name": "stdout",
     "output_type": "stream",
     "text": [
      "<class 'pandas.core.frame.DataFrame'>\n",
      "RangeIndex: 23051 entries, 0 to 23050\n",
      "Data columns (total 6 columns):\n",
      " #   Column               Non-Null Count  Dtype  \n",
      "---  ------               --------------  -----  \n",
      " 0   Overall_Rating       23051 non-null  int32  \n",
      " 1   Review_Title         23051 non-null  object \n",
      " 2   Cabin_Staff_Service  23051 non-null  float64\n",
      " 3   Food_Beverages       23051 non-null  float64\n",
      " 4   Recommended          23051 non-null  int64  \n",
      " 5   Review               23051 non-null  object \n",
      "dtypes: float64(2), int32(1), int64(1), object(2)\n",
      "memory usage: 990.6+ KB\n"
     ]
    }
   ],
   "source": [
    "df.info()"
   ]
  },
  {
   "cell_type": "markdown",
   "id": "a80355ff-cc93-423c-9042-d3f24e896b50",
   "metadata": {},
   "source": [
    "## Splitting"
   ]
  },
  {
   "cell_type": "code",
   "execution_count": 56,
   "id": "f3f6691b-375d-460f-a45f-d83813574707",
   "metadata": {},
   "outputs": [],
   "source": [
    "# Combine TF-IDF vectors with the existing numerical columns:\n",
    "\n",
    "# pd.DataFrame -- to convert into a dataframe\n",
    "# .toarray() -- converts the sparse TF-IDF matrix into a dense matrix\n",
    "# pd.concat([...], axis=1) -- concatenates the DataFrames created in the first two parts (TF-IDF vectors for \"rev\" and \"revTitle\") and the DataFrame from the third part (remaining numerical columns)\n",
    "\n",
    "x = pd.concat([pd.DataFrame(rev_tfidf.toarray()), \n",
    "               df.drop(columns=[\"Review_Title\", \"Review\",\"Recommended\"])], axis=1)"
   ]
  },
  {
   "cell_type": "code",
   "execution_count": 57,
   "id": "1d68c3f0-0f9a-4d85-81de-1b56b9687bc5",
   "metadata": {},
   "outputs": [],
   "source": [
    "y=df[\"Recommended\"]"
   ]
  },
  {
   "cell_type": "code",
   "execution_count": 58,
   "id": "56b302b8-43f0-42a0-924e-5b71801cfb3e",
   "metadata": {},
   "outputs": [
    {
     "data": {
      "text/html": [
       "<div>\n",
       "<style scoped>\n",
       "    .dataframe tbody tr th:only-of-type {\n",
       "        vertical-align: middle;\n",
       "    }\n",
       "\n",
       "    .dataframe tbody tr th {\n",
       "        vertical-align: top;\n",
       "    }\n",
       "\n",
       "    .dataframe thead th {\n",
       "        text-align: right;\n",
       "    }\n",
       "</style>\n",
       "<table border=\"1\" class=\"dataframe\">\n",
       "  <thead>\n",
       "    <tr style=\"text-align: right;\">\n",
       "      <th></th>\n",
       "      <th>0</th>\n",
       "      <th>1</th>\n",
       "      <th>2</th>\n",
       "      <th>3</th>\n",
       "      <th>4</th>\n",
       "      <th>5</th>\n",
       "      <th>6</th>\n",
       "      <th>7</th>\n",
       "      <th>8</th>\n",
       "      <th>9</th>\n",
       "      <th>...</th>\n",
       "      <th>3885</th>\n",
       "      <th>3886</th>\n",
       "      <th>3887</th>\n",
       "      <th>3888</th>\n",
       "      <th>3889</th>\n",
       "      <th>3890</th>\n",
       "      <th>3891</th>\n",
       "      <th>Overall_Rating</th>\n",
       "      <th>Cabin_Staff_Service</th>\n",
       "      <th>Food_Beverages</th>\n",
       "    </tr>\n",
       "  </thead>\n",
       "  <tbody>\n",
       "    <tr>\n",
       "      <th>0</th>\n",
       "      <td>0.0</td>\n",
       "      <td>0.0</td>\n",
       "      <td>0.0</td>\n",
       "      <td>0.0</td>\n",
       "      <td>0.0</td>\n",
       "      <td>0.0</td>\n",
       "      <td>0.0</td>\n",
       "      <td>0.0</td>\n",
       "      <td>0.0</td>\n",
       "      <td>0.0</td>\n",
       "      <td>...</td>\n",
       "      <td>0.0</td>\n",
       "      <td>0.0</td>\n",
       "      <td>0.0</td>\n",
       "      <td>0.0</td>\n",
       "      <td>0.0</td>\n",
       "      <td>0.0</td>\n",
       "      <td>0.0</td>\n",
       "      <td>9</td>\n",
       "      <td>5.0</td>\n",
       "      <td>4.0</td>\n",
       "    </tr>\n",
       "    <tr>\n",
       "      <th>1</th>\n",
       "      <td>0.0</td>\n",
       "      <td>0.0</td>\n",
       "      <td>0.0</td>\n",
       "      <td>0.0</td>\n",
       "      <td>0.0</td>\n",
       "      <td>0.0</td>\n",
       "      <td>0.0</td>\n",
       "      <td>0.0</td>\n",
       "      <td>0.0</td>\n",
       "      <td>0.0</td>\n",
       "      <td>...</td>\n",
       "      <td>0.0</td>\n",
       "      <td>0.0</td>\n",
       "      <td>0.0</td>\n",
       "      <td>0.0</td>\n",
       "      <td>0.0</td>\n",
       "      <td>0.0</td>\n",
       "      <td>0.0</td>\n",
       "      <td>1</td>\n",
       "      <td>2.0</td>\n",
       "      <td>1.0</td>\n",
       "    </tr>\n",
       "    <tr>\n",
       "      <th>2</th>\n",
       "      <td>0.0</td>\n",
       "      <td>0.0</td>\n",
       "      <td>0.0</td>\n",
       "      <td>0.0</td>\n",
       "      <td>0.0</td>\n",
       "      <td>0.0</td>\n",
       "      <td>0.0</td>\n",
       "      <td>0.0</td>\n",
       "      <td>0.0</td>\n",
       "      <td>0.0</td>\n",
       "      <td>...</td>\n",
       "      <td>0.0</td>\n",
       "      <td>0.0</td>\n",
       "      <td>0.0</td>\n",
       "      <td>0.0</td>\n",
       "      <td>0.0</td>\n",
       "      <td>0.0</td>\n",
       "      <td>0.0</td>\n",
       "      <td>1</td>\n",
       "      <td>1.0</td>\n",
       "      <td>1.0</td>\n",
       "    </tr>\n",
       "    <tr>\n",
       "      <th>3</th>\n",
       "      <td>0.0</td>\n",
       "      <td>0.0</td>\n",
       "      <td>0.0</td>\n",
       "      <td>0.0</td>\n",
       "      <td>0.0</td>\n",
       "      <td>0.0</td>\n",
       "      <td>0.0</td>\n",
       "      <td>0.0</td>\n",
       "      <td>0.0</td>\n",
       "      <td>0.0</td>\n",
       "      <td>...</td>\n",
       "      <td>0.0</td>\n",
       "      <td>0.0</td>\n",
       "      <td>0.0</td>\n",
       "      <td>0.0</td>\n",
       "      <td>0.0</td>\n",
       "      <td>0.0</td>\n",
       "      <td>0.0</td>\n",
       "      <td>1</td>\n",
       "      <td>1.0</td>\n",
       "      <td>2.0</td>\n",
       "    </tr>\n",
       "    <tr>\n",
       "      <th>4</th>\n",
       "      <td>0.0</td>\n",
       "      <td>0.0</td>\n",
       "      <td>0.0</td>\n",
       "      <td>0.0</td>\n",
       "      <td>0.0</td>\n",
       "      <td>0.0</td>\n",
       "      <td>0.0</td>\n",
       "      <td>0.0</td>\n",
       "      <td>0.0</td>\n",
       "      <td>0.0</td>\n",
       "      <td>...</td>\n",
       "      <td>0.0</td>\n",
       "      <td>0.0</td>\n",
       "      <td>0.0</td>\n",
       "      <td>0.0</td>\n",
       "      <td>0.0</td>\n",
       "      <td>0.0</td>\n",
       "      <td>0.0</td>\n",
       "      <td>1</td>\n",
       "      <td>1.0</td>\n",
       "      <td>1.0</td>\n",
       "    </tr>\n",
       "    <tr>\n",
       "      <th>...</th>\n",
       "      <td>...</td>\n",
       "      <td>...</td>\n",
       "      <td>...</td>\n",
       "      <td>...</td>\n",
       "      <td>...</td>\n",
       "      <td>...</td>\n",
       "      <td>...</td>\n",
       "      <td>...</td>\n",
       "      <td>...</td>\n",
       "      <td>...</td>\n",
       "      <td>...</td>\n",
       "      <td>...</td>\n",
       "      <td>...</td>\n",
       "      <td>...</td>\n",
       "      <td>...</td>\n",
       "      <td>...</td>\n",
       "      <td>...</td>\n",
       "      <td>...</td>\n",
       "      <td>...</td>\n",
       "      <td>...</td>\n",
       "      <td>...</td>\n",
       "    </tr>\n",
       "    <tr>\n",
       "      <th>23046</th>\n",
       "      <td>0.0</td>\n",
       "      <td>0.0</td>\n",
       "      <td>0.0</td>\n",
       "      <td>0.0</td>\n",
       "      <td>0.0</td>\n",
       "      <td>0.0</td>\n",
       "      <td>0.0</td>\n",
       "      <td>0.0</td>\n",
       "      <td>0.0</td>\n",
       "      <td>0.0</td>\n",
       "      <td>...</td>\n",
       "      <td>0.0</td>\n",
       "      <td>0.0</td>\n",
       "      <td>0.0</td>\n",
       "      <td>0.0</td>\n",
       "      <td>0.0</td>\n",
       "      <td>0.0</td>\n",
       "      <td>0.0</td>\n",
       "      <td>1</td>\n",
       "      <td>1.0</td>\n",
       "      <td>2.0</td>\n",
       "    </tr>\n",
       "    <tr>\n",
       "      <th>23047</th>\n",
       "      <td>0.0</td>\n",
       "      <td>0.0</td>\n",
       "      <td>0.0</td>\n",
       "      <td>0.0</td>\n",
       "      <td>0.0</td>\n",
       "      <td>0.0</td>\n",
       "      <td>0.0</td>\n",
       "      <td>0.0</td>\n",
       "      <td>0.0</td>\n",
       "      <td>0.0</td>\n",
       "      <td>...</td>\n",
       "      <td>0.0</td>\n",
       "      <td>0.0</td>\n",
       "      <td>0.0</td>\n",
       "      <td>0.0</td>\n",
       "      <td>0.0</td>\n",
       "      <td>0.0</td>\n",
       "      <td>0.0</td>\n",
       "      <td>1</td>\n",
       "      <td>3.0</td>\n",
       "      <td>2.0</td>\n",
       "    </tr>\n",
       "    <tr>\n",
       "      <th>23048</th>\n",
       "      <td>0.0</td>\n",
       "      <td>0.0</td>\n",
       "      <td>0.0</td>\n",
       "      <td>0.0</td>\n",
       "      <td>0.0</td>\n",
       "      <td>0.0</td>\n",
       "      <td>0.0</td>\n",
       "      <td>0.0</td>\n",
       "      <td>0.0</td>\n",
       "      <td>0.0</td>\n",
       "      <td>...</td>\n",
       "      <td>0.0</td>\n",
       "      <td>0.0</td>\n",
       "      <td>0.0</td>\n",
       "      <td>0.0</td>\n",
       "      <td>0.0</td>\n",
       "      <td>0.0</td>\n",
       "      <td>0.0</td>\n",
       "      <td>3</td>\n",
       "      <td>4.0</td>\n",
       "      <td>2.0</td>\n",
       "    </tr>\n",
       "    <tr>\n",
       "      <th>23049</th>\n",
       "      <td>0.0</td>\n",
       "      <td>0.0</td>\n",
       "      <td>0.0</td>\n",
       "      <td>0.0</td>\n",
       "      <td>0.0</td>\n",
       "      <td>0.0</td>\n",
       "      <td>0.0</td>\n",
       "      <td>0.0</td>\n",
       "      <td>0.0</td>\n",
       "      <td>0.0</td>\n",
       "      <td>...</td>\n",
       "      <td>0.0</td>\n",
       "      <td>0.0</td>\n",
       "      <td>0.0</td>\n",
       "      <td>0.0</td>\n",
       "      <td>0.0</td>\n",
       "      <td>0.0</td>\n",
       "      <td>0.0</td>\n",
       "      <td>6</td>\n",
       "      <td>4.0</td>\n",
       "      <td>3.0</td>\n",
       "    </tr>\n",
       "    <tr>\n",
       "      <th>23050</th>\n",
       "      <td>0.0</td>\n",
       "      <td>0.0</td>\n",
       "      <td>0.0</td>\n",
       "      <td>0.0</td>\n",
       "      <td>0.0</td>\n",
       "      <td>0.0</td>\n",
       "      <td>0.0</td>\n",
       "      <td>0.0</td>\n",
       "      <td>0.0</td>\n",
       "      <td>0.0</td>\n",
       "      <td>...</td>\n",
       "      <td>0.0</td>\n",
       "      <td>0.0</td>\n",
       "      <td>0.0</td>\n",
       "      <td>0.0</td>\n",
       "      <td>0.0</td>\n",
       "      <td>0.0</td>\n",
       "      <td>0.0</td>\n",
       "      <td>1</td>\n",
       "      <td>3.0</td>\n",
       "      <td>2.0</td>\n",
       "    </tr>\n",
       "  </tbody>\n",
       "</table>\n",
       "<p>23051 rows × 3895 columns</p>\n",
       "</div>"
      ],
      "text/plain": [
       "         0    1    2    3    4    5    6    7    8    9  ...  3885  3886  \\\n",
       "0      0.0  0.0  0.0  0.0  0.0  0.0  0.0  0.0  0.0  0.0  ...   0.0   0.0   \n",
       "1      0.0  0.0  0.0  0.0  0.0  0.0  0.0  0.0  0.0  0.0  ...   0.0   0.0   \n",
       "2      0.0  0.0  0.0  0.0  0.0  0.0  0.0  0.0  0.0  0.0  ...   0.0   0.0   \n",
       "3      0.0  0.0  0.0  0.0  0.0  0.0  0.0  0.0  0.0  0.0  ...   0.0   0.0   \n",
       "4      0.0  0.0  0.0  0.0  0.0  0.0  0.0  0.0  0.0  0.0  ...   0.0   0.0   \n",
       "...    ...  ...  ...  ...  ...  ...  ...  ...  ...  ...  ...   ...   ...   \n",
       "23046  0.0  0.0  0.0  0.0  0.0  0.0  0.0  0.0  0.0  0.0  ...   0.0   0.0   \n",
       "23047  0.0  0.0  0.0  0.0  0.0  0.0  0.0  0.0  0.0  0.0  ...   0.0   0.0   \n",
       "23048  0.0  0.0  0.0  0.0  0.0  0.0  0.0  0.0  0.0  0.0  ...   0.0   0.0   \n",
       "23049  0.0  0.0  0.0  0.0  0.0  0.0  0.0  0.0  0.0  0.0  ...   0.0   0.0   \n",
       "23050  0.0  0.0  0.0  0.0  0.0  0.0  0.0  0.0  0.0  0.0  ...   0.0   0.0   \n",
       "\n",
       "       3887  3888  3889  3890  3891  Overall_Rating  Cabin_Staff_Service  \\\n",
       "0       0.0   0.0   0.0   0.0   0.0               9                  5.0   \n",
       "1       0.0   0.0   0.0   0.0   0.0               1                  2.0   \n",
       "2       0.0   0.0   0.0   0.0   0.0               1                  1.0   \n",
       "3       0.0   0.0   0.0   0.0   0.0               1                  1.0   \n",
       "4       0.0   0.0   0.0   0.0   0.0               1                  1.0   \n",
       "...     ...   ...   ...   ...   ...             ...                  ...   \n",
       "23046   0.0   0.0   0.0   0.0   0.0               1                  1.0   \n",
       "23047   0.0   0.0   0.0   0.0   0.0               1                  3.0   \n",
       "23048   0.0   0.0   0.0   0.0   0.0               3                  4.0   \n",
       "23049   0.0   0.0   0.0   0.0   0.0               6                  4.0   \n",
       "23050   0.0   0.0   0.0   0.0   0.0               1                  3.0   \n",
       "\n",
       "       Food_Beverages  \n",
       "0                 4.0  \n",
       "1                 1.0  \n",
       "2                 1.0  \n",
       "3                 2.0  \n",
       "4                 1.0  \n",
       "...               ...  \n",
       "23046             2.0  \n",
       "23047             2.0  \n",
       "23048             2.0  \n",
       "23049             3.0  \n",
       "23050             2.0  \n",
       "\n",
       "[23051 rows x 3895 columns]"
      ]
     },
     "execution_count": 58,
     "metadata": {},
     "output_type": "execute_result"
    }
   ],
   "source": [
    "x"
   ]
  },
  {
   "cell_type": "code",
   "execution_count": 59,
   "id": "8af5e171-c18d-480f-b33b-62f832c1881d",
   "metadata": {},
   "outputs": [
    {
     "name": "stdout",
     "output_type": "stream",
     "text": [
      "<class 'pandas.core.frame.DataFrame'>\n",
      "RangeIndex: 23051 entries, 0 to 23050\n",
      "Columns: 3895 entries, 0 to Food_Beverages\n",
      "dtypes: float64(3894), int32(1)\n",
      "memory usage: 684.9 MB\n"
     ]
    }
   ],
   "source": [
    "x.info()"
   ]
  },
  {
   "cell_type": "code",
   "execution_count": 60,
   "id": "9587d86a-4a03-49f0-9ad0-702063a1850b",
   "metadata": {},
   "outputs": [
    {
     "name": "stdout",
     "output_type": "stream",
     "text": [
      "<class 'pandas.core.series.Series'>\n",
      "RangeIndex: 23051 entries, 0 to 23050\n",
      "Series name: Recommended\n",
      "Non-Null Count  Dtype\n",
      "--------------  -----\n",
      "23051 non-null  int64\n",
      "dtypes: int64(1)\n",
      "memory usage: 180.2 KB\n"
     ]
    }
   ],
   "source": [
    "y.info()"
   ]
  },
  {
   "cell_type": "code",
   "execution_count": 61,
   "id": "3af057c5-3455-483a-991f-b032108d474f",
   "metadata": {},
   "outputs": [],
   "source": [
    "x.columns = x.columns.astype(str)"
   ]
  },
  {
   "cell_type": "code",
   "execution_count": 62,
   "id": "39b14525-88d7-4a04-913c-6c0fe2c8cbff",
   "metadata": {},
   "outputs": [],
   "source": [
    "# scaler = MinMaxScaler()\n",
    "# scaler.fit(x)\n",
    "# x = scaler.transform(x)\n",
    "# x = pd.DataFrame(x)\n",
    "# x.info()"
   ]
  },
  {
   "cell_type": "markdown",
   "id": "45c50c90-653f-40a8-967e-2858a54d7ae9",
   "metadata": {},
   "source": [
    "## TrainTestSplit"
   ]
  },
  {
   "cell_type": "code",
   "execution_count": 63,
   "id": "3d3b011a-f0a9-4202-b8dc-7248fc6f21e4",
   "metadata": {},
   "outputs": [],
   "source": [
    "x_train, x_test, y_train, y_test = train_test_split(x, y, test_size=0.2, random_state=42)"
   ]
  },
  {
   "cell_type": "code",
   "execution_count": 64,
   "id": "b6963e09-93f0-4216-8d65-8e91ca6db6da",
   "metadata": {},
   "outputs": [
    {
     "name": "stdout",
     "output_type": "stream",
     "text": [
      "(18440, 3895)\n",
      "(4611, 3895)\n",
      "(18440,)\n",
      "(4611,)\n"
     ]
    }
   ],
   "source": [
    "print(x_train.shape)\n",
    "print(x_test.shape)\n",
    "print(y_train.shape)\n",
    "print(y_test.shape)"
   ]
  },
  {
   "cell_type": "code",
   "execution_count": 65,
   "id": "60e32e8a-d81a-4f5e-aaec-146033f5022d",
   "metadata": {},
   "outputs": [
    {
     "data": {
      "text/plain": [
       "14149    0\n",
       "3728     1\n",
       "16249    1\n",
       "450      0\n",
       "17987    1\n",
       "        ..\n",
       "11964    0\n",
       "21575    0\n",
       "5390     0\n",
       "860      0\n",
       "15795    0\n",
       "Name: Recommended, Length: 18440, dtype: int64"
      ]
     },
     "execution_count": 65,
     "metadata": {},
     "output_type": "execute_result"
    }
   ],
   "source": [
    "y_train"
   ]
  },
  {
   "cell_type": "markdown",
   "id": "3ce5ac38-8ce9-4f71-82ea-da00960bc9a6",
   "metadata": {},
   "source": [
    "## Model Training"
   ]
  },
  {
   "cell_type": "markdown",
   "id": "f9ddb88e-367b-4d09-b513-51621b9be164",
   "metadata": {},
   "source": [
    "## 1) Neural Networks"
   ]
  },
  {
   "cell_type": "code",
   "execution_count": 66,
   "id": "40eb5671-c8a7-4066-8405-fac6afccc3a3",
   "metadata": {},
   "outputs": [
    {
     "name": "stdout",
     "output_type": "stream",
     "text": [
      "Epoch 1/50\n",
      "577/577 [==============================] - 7s 7ms/step - loss: 0.3107 - accuracy: 0.8885\n",
      "Epoch 2/50\n",
      "577/577 [==============================] - 4s 7ms/step - loss: 0.1759 - accuracy: 0.9310\n",
      "Epoch 3/50\n",
      "577/577 [==============================] - 4s 7ms/step - loss: 0.1486 - accuracy: 0.9427\n",
      "Epoch 4/50\n",
      "577/577 [==============================] - 5s 8ms/step - loss: 0.1335 - accuracy: 0.9494\n",
      "Epoch 5/50\n",
      "577/577 [==============================] - 5s 8ms/step - loss: 0.1220 - accuracy: 0.9530\n",
      "Epoch 6/50\n",
      "577/577 [==============================] - 4s 7ms/step - loss: 0.1120 - accuracy: 0.9584\n",
      "Epoch 7/50\n",
      "577/577 [==============================] - 4s 8ms/step - loss: 0.1053 - accuracy: 0.9617\n",
      "Epoch 8/50\n",
      "577/577 [==============================] - 4s 7ms/step - loss: 0.0997 - accuracy: 0.9653\n",
      "Epoch 9/50\n",
      "577/577 [==============================] - 4s 7ms/step - loss: 0.0943 - accuracy: 0.9670\n",
      "Epoch 10/50\n",
      "577/577 [==============================] - 4s 7ms/step - loss: 0.0901 - accuracy: 0.9685\n",
      "Epoch 11/50\n",
      "577/577 [==============================] - 4s 7ms/step - loss: 0.0864 - accuracy: 0.9695\n",
      "Epoch 12/50\n",
      "577/577 [==============================] - 4s 7ms/step - loss: 0.0829 - accuracy: 0.9716\n",
      "Epoch 13/50\n",
      "577/577 [==============================] - 4s 7ms/step - loss: 0.0803 - accuracy: 0.9729\n",
      "Epoch 14/50\n",
      "577/577 [==============================] - 4s 7ms/step - loss: 0.0790 - accuracy: 0.9734\n",
      "Epoch 15/50\n",
      "577/577 [==============================] - 4s 6ms/step - loss: 0.0757 - accuracy: 0.9739\n",
      "Epoch 16/50\n",
      "577/577 [==============================] - 5s 8ms/step - loss: 0.0740 - accuracy: 0.9751\n",
      "Epoch 17/50\n",
      "577/577 [==============================] - 5s 8ms/step - loss: 0.0715 - accuracy: 0.9755\n",
      "Epoch 18/50\n",
      "577/577 [==============================] - 4s 7ms/step - loss: 0.0704 - accuracy: 0.9765\n",
      "Epoch 19/50\n",
      "577/577 [==============================] - 5s 8ms/step - loss: 0.0688 - accuracy: 0.9768\n",
      "Epoch 20/50\n",
      "577/577 [==============================] - 4s 8ms/step - loss: 0.0679 - accuracy: 0.9767\n",
      "Epoch 21/50\n",
      "577/577 [==============================] - 5s 8ms/step - loss: 0.0672 - accuracy: 0.9758\n",
      "Epoch 22/50\n",
      "577/577 [==============================] - 5s 8ms/step - loss: 0.0650 - accuracy: 0.9783\n",
      "Epoch 23/50\n",
      "577/577 [==============================] - 4s 8ms/step - loss: 0.0637 - accuracy: 0.9786\n",
      "Epoch 24/50\n",
      "577/577 [==============================] - 5s 8ms/step - loss: 0.0623 - accuracy: 0.9798\n",
      "Epoch 25/50\n",
      "577/577 [==============================] - 5s 8ms/step - loss: 0.0616 - accuracy: 0.9793\n",
      "Epoch 26/50\n",
      "577/577 [==============================] - 4s 7ms/step - loss: 0.0596 - accuracy: 0.9805\n",
      "Epoch 27/50\n",
      "577/577 [==============================] - 4s 8ms/step - loss: 0.0598 - accuracy: 0.9800\n",
      "Epoch 28/50\n",
      "577/577 [==============================] - 4s 8ms/step - loss: 0.0593 - accuracy: 0.9804\n",
      "Epoch 29/50\n",
      "577/577 [==============================] - 4s 8ms/step - loss: 0.0562 - accuracy: 0.9818\n",
      "Epoch 30/50\n",
      "577/577 [==============================] - 4s 8ms/step - loss: 0.0553 - accuracy: 0.9818\n",
      "Epoch 31/50\n",
      "577/577 [==============================] - 4s 8ms/step - loss: 0.0558 - accuracy: 0.9815\n",
      "Epoch 32/50\n",
      "577/577 [==============================] - 4s 8ms/step - loss: 0.0558 - accuracy: 0.9813\n",
      "Epoch 33/50\n",
      "577/577 [==============================] - 4s 8ms/step - loss: 0.0536 - accuracy: 0.9817\n",
      "Epoch 34/50\n",
      "577/577 [==============================] - 4s 8ms/step - loss: 0.0534 - accuracy: 0.9822\n",
      "Epoch 35/50\n",
      "577/577 [==============================] - 4s 8ms/step - loss: 0.0520 - accuracy: 0.9826\n",
      "Epoch 36/50\n",
      "577/577 [==============================] - 4s 7ms/step - loss: 0.0510 - accuracy: 0.9825\n",
      "Epoch 37/50\n",
      "577/577 [==============================] - 4s 8ms/step - loss: 0.0513 - accuracy: 0.9827\n",
      "Epoch 38/50\n",
      "577/577 [==============================] - 4s 8ms/step - loss: 0.0511 - accuracy: 0.9828\n",
      "Epoch 39/50\n",
      "577/577 [==============================] - 4s 8ms/step - loss: 0.0500 - accuracy: 0.9832\n",
      "Epoch 40/50\n",
      "577/577 [==============================] - 5s 8ms/step - loss: 0.0493 - accuracy: 0.9845\n",
      "Epoch 41/50\n",
      "577/577 [==============================] - 4s 8ms/step - loss: 0.0493 - accuracy: 0.9826\n",
      "Epoch 42/50\n",
      "577/577 [==============================] - 4s 8ms/step - loss: 0.0481 - accuracy: 0.9833\n",
      "Epoch 43/50\n",
      "577/577 [==============================] - 4s 8ms/step - loss: 0.0470 - accuracy: 0.9847\n",
      "Epoch 44/50\n",
      "577/577 [==============================] - 4s 8ms/step - loss: 0.0468 - accuracy: 0.9832\n",
      "Epoch 45/50\n",
      "577/577 [==============================] - 4s 8ms/step - loss: 0.0466 - accuracy: 0.9844\n",
      "Epoch 46/50\n",
      "577/577 [==============================] - 4s 8ms/step - loss: 0.0459 - accuracy: 0.9846\n",
      "Epoch 47/50\n",
      "577/577 [==============================] - 4s 8ms/step - loss: 0.0460 - accuracy: 0.9844\n",
      "Epoch 48/50\n",
      "577/577 [==============================] - 4s 8ms/step - loss: 0.0455 - accuracy: 0.9844\n",
      "Epoch 49/50\n",
      "577/577 [==============================] - 5s 8ms/step - loss: 0.0450 - accuracy: 0.9850\n",
      "Epoch 50/50\n",
      "577/577 [==============================] - 4s 8ms/step - loss: 0.0434 - accuracy: 0.9858\n"
     ]
    },
    {
     "data": {
      "text/plain": [
       "<keras.src.callbacks.History at 0x2010b3a69d0>"
      ]
     },
     "execution_count": 66,
     "metadata": {},
     "output_type": "execute_result"
    }
   ],
   "source": [
    "model1 = keras.Sequential([\n",
    "    keras.layers.Input(shape=(x_train.shape[1],)),  # shape of the input data\n",
    "    keras.layers.Dense(64, activation='relu'),  # hidden layer\n",
    "    keras.layers.Dense(1, activation='sigmoid')\n",
    "])\n",
    "\n",
    "model1.compile(\n",
    "    optimizer='adam',\n",
    "    loss='binary_crossentropy',\n",
    "    metrics=['accuracy']\n",
    ")\n",
    "\n",
    "# Train the model\n",
    "model1.fit(x_train, y_train, epochs=50)"
   ]
  },
  {
   "cell_type": "code",
   "execution_count": 67,
   "id": "8cfb68c8-1bd7-4dc8-98b8-bf172ce4e0f8",
   "metadata": {},
   "outputs": [
    {
     "name": "stdout",
     "output_type": "stream",
     "text": [
      "577/577 [==============================] - 5s 4ms/step - loss: 0.0396 - accuracy: 0.9867\n",
      "Test accuracy: 0.9867136478424072\n"
     ]
    }
   ],
   "source": [
    "# Evaluate the model\n",
    "loss, accuracy = model1.evaluate(x_train, y_train)\n",
    "print(f\"Test accuracy: {accuracy}\")"
   ]
  },
  {
   "cell_type": "markdown",
   "id": "cc10856d-d05c-47c7-b73c-db923362b610",
   "metadata": {},
   "source": [
    "## 2) Random Forest Classifier"
   ]
  },
  {
   "cell_type": "code",
   "execution_count": 68,
   "id": "7db7f04f-7860-4c91-b6d2-4311a6708b2f",
   "metadata": {},
   "outputs": [
    {
     "data": {
      "text/html": [
       "<style>#sk-container-id-1 {color: black;}#sk-container-id-1 pre{padding: 0;}#sk-container-id-1 div.sk-toggleable {background-color: white;}#sk-container-id-1 label.sk-toggleable__label {cursor: pointer;display: block;width: 100%;margin-bottom: 0;padding: 0.3em;box-sizing: border-box;text-align: center;}#sk-container-id-1 label.sk-toggleable__label-arrow:before {content: \"▸\";float: left;margin-right: 0.25em;color: #696969;}#sk-container-id-1 label.sk-toggleable__label-arrow:hover:before {color: black;}#sk-container-id-1 div.sk-estimator:hover label.sk-toggleable__label-arrow:before {color: black;}#sk-container-id-1 div.sk-toggleable__content {max-height: 0;max-width: 0;overflow: hidden;text-align: left;background-color: #f0f8ff;}#sk-container-id-1 div.sk-toggleable__content pre {margin: 0.2em;color: black;border-radius: 0.25em;background-color: #f0f8ff;}#sk-container-id-1 input.sk-toggleable__control:checked~div.sk-toggleable__content {max-height: 200px;max-width: 100%;overflow: auto;}#sk-container-id-1 input.sk-toggleable__control:checked~label.sk-toggleable__label-arrow:before {content: \"▾\";}#sk-container-id-1 div.sk-estimator input.sk-toggleable__control:checked~label.sk-toggleable__label {background-color: #d4ebff;}#sk-container-id-1 div.sk-label input.sk-toggleable__control:checked~label.sk-toggleable__label {background-color: #d4ebff;}#sk-container-id-1 input.sk-hidden--visually {border: 0;clip: rect(1px 1px 1px 1px);clip: rect(1px, 1px, 1px, 1px);height: 1px;margin: -1px;overflow: hidden;padding: 0;position: absolute;width: 1px;}#sk-container-id-1 div.sk-estimator {font-family: monospace;background-color: #f0f8ff;border: 1px dotted black;border-radius: 0.25em;box-sizing: border-box;margin-bottom: 0.5em;}#sk-container-id-1 div.sk-estimator:hover {background-color: #d4ebff;}#sk-container-id-1 div.sk-parallel-item::after {content: \"\";width: 100%;border-bottom: 1px solid gray;flex-grow: 1;}#sk-container-id-1 div.sk-label:hover label.sk-toggleable__label {background-color: #d4ebff;}#sk-container-id-1 div.sk-serial::before {content: \"\";position: absolute;border-left: 1px solid gray;box-sizing: border-box;top: 0;bottom: 0;left: 50%;z-index: 0;}#sk-container-id-1 div.sk-serial {display: flex;flex-direction: column;align-items: center;background-color: white;padding-right: 0.2em;padding-left: 0.2em;position: relative;}#sk-container-id-1 div.sk-item {position: relative;z-index: 1;}#sk-container-id-1 div.sk-parallel {display: flex;align-items: stretch;justify-content: center;background-color: white;position: relative;}#sk-container-id-1 div.sk-item::before, #sk-container-id-1 div.sk-parallel-item::before {content: \"\";position: absolute;border-left: 1px solid gray;box-sizing: border-box;top: 0;bottom: 0;left: 50%;z-index: -1;}#sk-container-id-1 div.sk-parallel-item {display: flex;flex-direction: column;z-index: 1;position: relative;background-color: white;}#sk-container-id-1 div.sk-parallel-item:first-child::after {align-self: flex-end;width: 50%;}#sk-container-id-1 div.sk-parallel-item:last-child::after {align-self: flex-start;width: 50%;}#sk-container-id-1 div.sk-parallel-item:only-child::after {width: 0;}#sk-container-id-1 div.sk-dashed-wrapped {border: 1px dashed gray;margin: 0 0.4em 0.5em 0.4em;box-sizing: border-box;padding-bottom: 0.4em;background-color: white;}#sk-container-id-1 div.sk-label label {font-family: monospace;font-weight: bold;display: inline-block;line-height: 1.2em;}#sk-container-id-1 div.sk-label-container {text-align: center;}#sk-container-id-1 div.sk-container {/* jupyter's `normalize.less` sets `[hidden] { display: none; }` but bootstrap.min.css set `[hidden] { display: none !important; }` so we also need the `!important` here to be able to override the default hidden behavior on the sphinx rendered scikit-learn.org. See: https://github.com/scikit-learn/scikit-learn/issues/21755 */display: inline-block !important;position: relative;}#sk-container-id-1 div.sk-text-repr-fallback {display: none;}</style><div id=\"sk-container-id-1\" class=\"sk-top-container\"><div class=\"sk-text-repr-fallback\"><pre>RandomForestClassifier(random_state=42)</pre><b>In a Jupyter environment, please rerun this cell to show the HTML representation or trust the notebook. <br />On GitHub, the HTML representation is unable to render, please try loading this page with nbviewer.org.</b></div><div class=\"sk-container\" hidden><div class=\"sk-item\"><div class=\"sk-estimator sk-toggleable\"><input class=\"sk-toggleable__control sk-hidden--visually\" id=\"sk-estimator-id-1\" type=\"checkbox\" checked><label for=\"sk-estimator-id-1\" class=\"sk-toggleable__label sk-toggleable__label-arrow\">RandomForestClassifier</label><div class=\"sk-toggleable__content\"><pre>RandomForestClassifier(random_state=42)</pre></div></div></div></div></div>"
      ],
      "text/plain": [
       "RandomForestClassifier(random_state=42)"
      ]
     },
     "execution_count": 68,
     "metadata": {},
     "output_type": "execute_result"
    }
   ],
   "source": [
    "model2=RandomForestClassifier(n_estimators=100, random_state=42)\n",
    "model2"
   ]
  },
  {
   "cell_type": "code",
   "execution_count": 69,
   "id": "30135cea-56bd-427d-a44f-386550ede29e",
   "metadata": {},
   "outputs": [
    {
     "name": "stdout",
     "output_type": "stream",
     "text": [
      "              precision    recall  f1-score   support\n",
      "\n",
      "           0       0.95      0.96      0.96      3051\n",
      "           1       0.92      0.90      0.91      1560\n",
      "\n",
      "    accuracy                           0.94      4611\n",
      "   macro avg       0.94      0.93      0.93      4611\n",
      "weighted avg       0.94      0.94      0.94      4611\n",
      "\n"
     ]
    }
   ],
   "source": [
    "model2.fit(x_train, y_train)\n",
    "y_pred2 = model2.predict(x_test)\n",
    "print(classification_report(y_test, y_pred2))"
   ]
  },
  {
   "cell_type": "markdown",
   "id": "f8b639de-90cf-46eb-94a4-a43a6ae16faa",
   "metadata": {},
   "source": [
    "## 3) KNeighbors Classifier"
   ]
  },
  {
   "cell_type": "code",
   "execution_count": 70,
   "id": "fa3c1c60-9e6c-4348-92a8-b58ed7827693",
   "metadata": {},
   "outputs": [
    {
     "data": {
      "text/html": [
       "<style>#sk-container-id-2 {color: black;}#sk-container-id-2 pre{padding: 0;}#sk-container-id-2 div.sk-toggleable {background-color: white;}#sk-container-id-2 label.sk-toggleable__label {cursor: pointer;display: block;width: 100%;margin-bottom: 0;padding: 0.3em;box-sizing: border-box;text-align: center;}#sk-container-id-2 label.sk-toggleable__label-arrow:before {content: \"▸\";float: left;margin-right: 0.25em;color: #696969;}#sk-container-id-2 label.sk-toggleable__label-arrow:hover:before {color: black;}#sk-container-id-2 div.sk-estimator:hover label.sk-toggleable__label-arrow:before {color: black;}#sk-container-id-2 div.sk-toggleable__content {max-height: 0;max-width: 0;overflow: hidden;text-align: left;background-color: #f0f8ff;}#sk-container-id-2 div.sk-toggleable__content pre {margin: 0.2em;color: black;border-radius: 0.25em;background-color: #f0f8ff;}#sk-container-id-2 input.sk-toggleable__control:checked~div.sk-toggleable__content {max-height: 200px;max-width: 100%;overflow: auto;}#sk-container-id-2 input.sk-toggleable__control:checked~label.sk-toggleable__label-arrow:before {content: \"▾\";}#sk-container-id-2 div.sk-estimator input.sk-toggleable__control:checked~label.sk-toggleable__label {background-color: #d4ebff;}#sk-container-id-2 div.sk-label input.sk-toggleable__control:checked~label.sk-toggleable__label {background-color: #d4ebff;}#sk-container-id-2 input.sk-hidden--visually {border: 0;clip: rect(1px 1px 1px 1px);clip: rect(1px, 1px, 1px, 1px);height: 1px;margin: -1px;overflow: hidden;padding: 0;position: absolute;width: 1px;}#sk-container-id-2 div.sk-estimator {font-family: monospace;background-color: #f0f8ff;border: 1px dotted black;border-radius: 0.25em;box-sizing: border-box;margin-bottom: 0.5em;}#sk-container-id-2 div.sk-estimator:hover {background-color: #d4ebff;}#sk-container-id-2 div.sk-parallel-item::after {content: \"\";width: 100%;border-bottom: 1px solid gray;flex-grow: 1;}#sk-container-id-2 div.sk-label:hover label.sk-toggleable__label {background-color: #d4ebff;}#sk-container-id-2 div.sk-serial::before {content: \"\";position: absolute;border-left: 1px solid gray;box-sizing: border-box;top: 0;bottom: 0;left: 50%;z-index: 0;}#sk-container-id-2 div.sk-serial {display: flex;flex-direction: column;align-items: center;background-color: white;padding-right: 0.2em;padding-left: 0.2em;position: relative;}#sk-container-id-2 div.sk-item {position: relative;z-index: 1;}#sk-container-id-2 div.sk-parallel {display: flex;align-items: stretch;justify-content: center;background-color: white;position: relative;}#sk-container-id-2 div.sk-item::before, #sk-container-id-2 div.sk-parallel-item::before {content: \"\";position: absolute;border-left: 1px solid gray;box-sizing: border-box;top: 0;bottom: 0;left: 50%;z-index: -1;}#sk-container-id-2 div.sk-parallel-item {display: flex;flex-direction: column;z-index: 1;position: relative;background-color: white;}#sk-container-id-2 div.sk-parallel-item:first-child::after {align-self: flex-end;width: 50%;}#sk-container-id-2 div.sk-parallel-item:last-child::after {align-self: flex-start;width: 50%;}#sk-container-id-2 div.sk-parallel-item:only-child::after {width: 0;}#sk-container-id-2 div.sk-dashed-wrapped {border: 1px dashed gray;margin: 0 0.4em 0.5em 0.4em;box-sizing: border-box;padding-bottom: 0.4em;background-color: white;}#sk-container-id-2 div.sk-label label {font-family: monospace;font-weight: bold;display: inline-block;line-height: 1.2em;}#sk-container-id-2 div.sk-label-container {text-align: center;}#sk-container-id-2 div.sk-container {/* jupyter's `normalize.less` sets `[hidden] { display: none; }` but bootstrap.min.css set `[hidden] { display: none !important; }` so we also need the `!important` here to be able to override the default hidden behavior on the sphinx rendered scikit-learn.org. See: https://github.com/scikit-learn/scikit-learn/issues/21755 */display: inline-block !important;position: relative;}#sk-container-id-2 div.sk-text-repr-fallback {display: none;}</style><div id=\"sk-container-id-2\" class=\"sk-top-container\"><div class=\"sk-text-repr-fallback\"><pre>KNeighborsClassifier()</pre><b>In a Jupyter environment, please rerun this cell to show the HTML representation or trust the notebook. <br />On GitHub, the HTML representation is unable to render, please try loading this page with nbviewer.org.</b></div><div class=\"sk-container\" hidden><div class=\"sk-item\"><div class=\"sk-estimator sk-toggleable\"><input class=\"sk-toggleable__control sk-hidden--visually\" id=\"sk-estimator-id-2\" type=\"checkbox\" checked><label for=\"sk-estimator-id-2\" class=\"sk-toggleable__label sk-toggleable__label-arrow\">KNeighborsClassifier</label><div class=\"sk-toggleable__content\"><pre>KNeighborsClassifier()</pre></div></div></div></div></div>"
      ],
      "text/plain": [
       "KNeighborsClassifier()"
      ]
     },
     "execution_count": 70,
     "metadata": {},
     "output_type": "execute_result"
    }
   ],
   "source": [
    "model3=KNeighborsClassifier()\n",
    "model3"
   ]
  },
  {
   "cell_type": "code",
   "execution_count": 71,
   "id": "7bfe9332-412b-4b09-ae8a-effe291251fd",
   "metadata": {},
   "outputs": [
    {
     "name": "stdout",
     "output_type": "stream",
     "text": [
      "              precision    recall  f1-score   support\n",
      "\n",
      "           0       0.95      0.95      0.95      3051\n",
      "           1       0.91      0.90      0.91      1560\n",
      "\n",
      "    accuracy                           0.94      4611\n",
      "   macro avg       0.93      0.93      0.93      4611\n",
      "weighted avg       0.94      0.94      0.94      4611\n",
      "\n"
     ]
    }
   ],
   "source": [
    "model3.fit(x_train, y_train)\n",
    "y_pred3 = model3.predict(x_test)\n",
    "print(classification_report(y_test, y_pred3))"
   ]
  },
  {
   "cell_type": "markdown",
   "id": "3edaae02-47ac-44d8-a2f2-e22871dec5b8",
   "metadata": {},
   "source": [
    "## 4) Decision Tree Classifier"
   ]
  },
  {
   "cell_type": "code",
   "execution_count": 72,
   "id": "383ee0c0-f5e9-4eb8-b397-8766be7a0c6b",
   "metadata": {},
   "outputs": [
    {
     "data": {
      "text/html": [
       "<style>#sk-container-id-3 {color: black;}#sk-container-id-3 pre{padding: 0;}#sk-container-id-3 div.sk-toggleable {background-color: white;}#sk-container-id-3 label.sk-toggleable__label {cursor: pointer;display: block;width: 100%;margin-bottom: 0;padding: 0.3em;box-sizing: border-box;text-align: center;}#sk-container-id-3 label.sk-toggleable__label-arrow:before {content: \"▸\";float: left;margin-right: 0.25em;color: #696969;}#sk-container-id-3 label.sk-toggleable__label-arrow:hover:before {color: black;}#sk-container-id-3 div.sk-estimator:hover label.sk-toggleable__label-arrow:before {color: black;}#sk-container-id-3 div.sk-toggleable__content {max-height: 0;max-width: 0;overflow: hidden;text-align: left;background-color: #f0f8ff;}#sk-container-id-3 div.sk-toggleable__content pre {margin: 0.2em;color: black;border-radius: 0.25em;background-color: #f0f8ff;}#sk-container-id-3 input.sk-toggleable__control:checked~div.sk-toggleable__content {max-height: 200px;max-width: 100%;overflow: auto;}#sk-container-id-3 input.sk-toggleable__control:checked~label.sk-toggleable__label-arrow:before {content: \"▾\";}#sk-container-id-3 div.sk-estimator input.sk-toggleable__control:checked~label.sk-toggleable__label {background-color: #d4ebff;}#sk-container-id-3 div.sk-label input.sk-toggleable__control:checked~label.sk-toggleable__label {background-color: #d4ebff;}#sk-container-id-3 input.sk-hidden--visually {border: 0;clip: rect(1px 1px 1px 1px);clip: rect(1px, 1px, 1px, 1px);height: 1px;margin: -1px;overflow: hidden;padding: 0;position: absolute;width: 1px;}#sk-container-id-3 div.sk-estimator {font-family: monospace;background-color: #f0f8ff;border: 1px dotted black;border-radius: 0.25em;box-sizing: border-box;margin-bottom: 0.5em;}#sk-container-id-3 div.sk-estimator:hover {background-color: #d4ebff;}#sk-container-id-3 div.sk-parallel-item::after {content: \"\";width: 100%;border-bottom: 1px solid gray;flex-grow: 1;}#sk-container-id-3 div.sk-label:hover label.sk-toggleable__label {background-color: #d4ebff;}#sk-container-id-3 div.sk-serial::before {content: \"\";position: absolute;border-left: 1px solid gray;box-sizing: border-box;top: 0;bottom: 0;left: 50%;z-index: 0;}#sk-container-id-3 div.sk-serial {display: flex;flex-direction: column;align-items: center;background-color: white;padding-right: 0.2em;padding-left: 0.2em;position: relative;}#sk-container-id-3 div.sk-item {position: relative;z-index: 1;}#sk-container-id-3 div.sk-parallel {display: flex;align-items: stretch;justify-content: center;background-color: white;position: relative;}#sk-container-id-3 div.sk-item::before, #sk-container-id-3 div.sk-parallel-item::before {content: \"\";position: absolute;border-left: 1px solid gray;box-sizing: border-box;top: 0;bottom: 0;left: 50%;z-index: -1;}#sk-container-id-3 div.sk-parallel-item {display: flex;flex-direction: column;z-index: 1;position: relative;background-color: white;}#sk-container-id-3 div.sk-parallel-item:first-child::after {align-self: flex-end;width: 50%;}#sk-container-id-3 div.sk-parallel-item:last-child::after {align-self: flex-start;width: 50%;}#sk-container-id-3 div.sk-parallel-item:only-child::after {width: 0;}#sk-container-id-3 div.sk-dashed-wrapped {border: 1px dashed gray;margin: 0 0.4em 0.5em 0.4em;box-sizing: border-box;padding-bottom: 0.4em;background-color: white;}#sk-container-id-3 div.sk-label label {font-family: monospace;font-weight: bold;display: inline-block;line-height: 1.2em;}#sk-container-id-3 div.sk-label-container {text-align: center;}#sk-container-id-3 div.sk-container {/* jupyter's `normalize.less` sets `[hidden] { display: none; }` but bootstrap.min.css set `[hidden] { display: none !important; }` so we also need the `!important` here to be able to override the default hidden behavior on the sphinx rendered scikit-learn.org. See: https://github.com/scikit-learn/scikit-learn/issues/21755 */display: inline-block !important;position: relative;}#sk-container-id-3 div.sk-text-repr-fallback {display: none;}</style><div id=\"sk-container-id-3\" class=\"sk-top-container\"><div class=\"sk-text-repr-fallback\"><pre>DecisionTreeClassifier()</pre><b>In a Jupyter environment, please rerun this cell to show the HTML representation or trust the notebook. <br />On GitHub, the HTML representation is unable to render, please try loading this page with nbviewer.org.</b></div><div class=\"sk-container\" hidden><div class=\"sk-item\"><div class=\"sk-estimator sk-toggleable\"><input class=\"sk-toggleable__control sk-hidden--visually\" id=\"sk-estimator-id-3\" type=\"checkbox\" checked><label for=\"sk-estimator-id-3\" class=\"sk-toggleable__label sk-toggleable__label-arrow\">DecisionTreeClassifier</label><div class=\"sk-toggleable__content\"><pre>DecisionTreeClassifier()</pre></div></div></div></div></div>"
      ],
      "text/plain": [
       "DecisionTreeClassifier()"
      ]
     },
     "execution_count": 72,
     "metadata": {},
     "output_type": "execute_result"
    }
   ],
   "source": [
    "model4=DecisionTreeClassifier() # Increase the max_iter value\n",
    "model4"
   ]
  },
  {
   "cell_type": "code",
   "execution_count": 73,
   "id": "e2944df1-738f-475b-98f1-0c5ba33f7f35",
   "metadata": {},
   "outputs": [
    {
     "name": "stdout",
     "output_type": "stream",
     "text": [
      "              precision    recall  f1-score   support\n",
      "\n",
      "           0       0.95      0.95      0.95      3051\n",
      "           1       0.90      0.90      0.90      1560\n",
      "\n",
      "    accuracy                           0.93      4611\n",
      "   macro avg       0.93      0.93      0.93      4611\n",
      "weighted avg       0.93      0.93      0.93      4611\n",
      "\n"
     ]
    }
   ],
   "source": [
    "model4.fit(x_train, y_train)\n",
    "y_pred4 = model4.predict(x_test)\n",
    "print(classification_report(y_test, y_pred4))"
   ]
  },
  {
   "cell_type": "markdown",
   "id": "2072dca7-95f6-42b8-bf8c-d994f6d47a60",
   "metadata": {},
   "source": [
    "## 5) Logistic Regression"
   ]
  },
  {
   "cell_type": "code",
   "execution_count": 74,
   "id": "1f458e8b-980c-4ea5-95db-ea06de335aa5",
   "metadata": {},
   "outputs": [
    {
     "data": {
      "text/html": [
       "<style>#sk-container-id-4 {color: black;}#sk-container-id-4 pre{padding: 0;}#sk-container-id-4 div.sk-toggleable {background-color: white;}#sk-container-id-4 label.sk-toggleable__label {cursor: pointer;display: block;width: 100%;margin-bottom: 0;padding: 0.3em;box-sizing: border-box;text-align: center;}#sk-container-id-4 label.sk-toggleable__label-arrow:before {content: \"▸\";float: left;margin-right: 0.25em;color: #696969;}#sk-container-id-4 label.sk-toggleable__label-arrow:hover:before {color: black;}#sk-container-id-4 div.sk-estimator:hover label.sk-toggleable__label-arrow:before {color: black;}#sk-container-id-4 div.sk-toggleable__content {max-height: 0;max-width: 0;overflow: hidden;text-align: left;background-color: #f0f8ff;}#sk-container-id-4 div.sk-toggleable__content pre {margin: 0.2em;color: black;border-radius: 0.25em;background-color: #f0f8ff;}#sk-container-id-4 input.sk-toggleable__control:checked~div.sk-toggleable__content {max-height: 200px;max-width: 100%;overflow: auto;}#sk-container-id-4 input.sk-toggleable__control:checked~label.sk-toggleable__label-arrow:before {content: \"▾\";}#sk-container-id-4 div.sk-estimator input.sk-toggleable__control:checked~label.sk-toggleable__label {background-color: #d4ebff;}#sk-container-id-4 div.sk-label input.sk-toggleable__control:checked~label.sk-toggleable__label {background-color: #d4ebff;}#sk-container-id-4 input.sk-hidden--visually {border: 0;clip: rect(1px 1px 1px 1px);clip: rect(1px, 1px, 1px, 1px);height: 1px;margin: -1px;overflow: hidden;padding: 0;position: absolute;width: 1px;}#sk-container-id-4 div.sk-estimator {font-family: monospace;background-color: #f0f8ff;border: 1px dotted black;border-radius: 0.25em;box-sizing: border-box;margin-bottom: 0.5em;}#sk-container-id-4 div.sk-estimator:hover {background-color: #d4ebff;}#sk-container-id-4 div.sk-parallel-item::after {content: \"\";width: 100%;border-bottom: 1px solid gray;flex-grow: 1;}#sk-container-id-4 div.sk-label:hover label.sk-toggleable__label {background-color: #d4ebff;}#sk-container-id-4 div.sk-serial::before {content: \"\";position: absolute;border-left: 1px solid gray;box-sizing: border-box;top: 0;bottom: 0;left: 50%;z-index: 0;}#sk-container-id-4 div.sk-serial {display: flex;flex-direction: column;align-items: center;background-color: white;padding-right: 0.2em;padding-left: 0.2em;position: relative;}#sk-container-id-4 div.sk-item {position: relative;z-index: 1;}#sk-container-id-4 div.sk-parallel {display: flex;align-items: stretch;justify-content: center;background-color: white;position: relative;}#sk-container-id-4 div.sk-item::before, #sk-container-id-4 div.sk-parallel-item::before {content: \"\";position: absolute;border-left: 1px solid gray;box-sizing: border-box;top: 0;bottom: 0;left: 50%;z-index: -1;}#sk-container-id-4 div.sk-parallel-item {display: flex;flex-direction: column;z-index: 1;position: relative;background-color: white;}#sk-container-id-4 div.sk-parallel-item:first-child::after {align-self: flex-end;width: 50%;}#sk-container-id-4 div.sk-parallel-item:last-child::after {align-self: flex-start;width: 50%;}#sk-container-id-4 div.sk-parallel-item:only-child::after {width: 0;}#sk-container-id-4 div.sk-dashed-wrapped {border: 1px dashed gray;margin: 0 0.4em 0.5em 0.4em;box-sizing: border-box;padding-bottom: 0.4em;background-color: white;}#sk-container-id-4 div.sk-label label {font-family: monospace;font-weight: bold;display: inline-block;line-height: 1.2em;}#sk-container-id-4 div.sk-label-container {text-align: center;}#sk-container-id-4 div.sk-container {/* jupyter's `normalize.less` sets `[hidden] { display: none; }` but bootstrap.min.css set `[hidden] { display: none !important; }` so we also need the `!important` here to be able to override the default hidden behavior on the sphinx rendered scikit-learn.org. See: https://github.com/scikit-learn/scikit-learn/issues/21755 */display: inline-block !important;position: relative;}#sk-container-id-4 div.sk-text-repr-fallback {display: none;}</style><div id=\"sk-container-id-4\" class=\"sk-top-container\"><div class=\"sk-text-repr-fallback\"><pre>LogisticRegression(max_iter=1000)</pre><b>In a Jupyter environment, please rerun this cell to show the HTML representation or trust the notebook. <br />On GitHub, the HTML representation is unable to render, please try loading this page with nbviewer.org.</b></div><div class=\"sk-container\" hidden><div class=\"sk-item\"><div class=\"sk-estimator sk-toggleable\"><input class=\"sk-toggleable__control sk-hidden--visually\" id=\"sk-estimator-id-4\" type=\"checkbox\" checked><label for=\"sk-estimator-id-4\" class=\"sk-toggleable__label sk-toggleable__label-arrow\">LogisticRegression</label><div class=\"sk-toggleable__content\"><pre>LogisticRegression(max_iter=1000)</pre></div></div></div></div></div>"
      ],
      "text/plain": [
       "LogisticRegression(max_iter=1000)"
      ]
     },
     "execution_count": 74,
     "metadata": {},
     "output_type": "execute_result"
    }
   ],
   "source": [
    "model5=LogisticRegression(max_iter=1000) # Increase the max_iter value\n",
    "model5"
   ]
  },
  {
   "cell_type": "code",
   "execution_count": 75,
   "id": "441eccfe-5e0a-4d38-ad45-749370ac6397",
   "metadata": {},
   "outputs": [
    {
     "name": "stdout",
     "output_type": "stream",
     "text": [
      "              precision    recall  f1-score   support\n",
      "\n",
      "           0       0.92      0.93      0.92      3051\n",
      "           1       0.85      0.84      0.85      1560\n",
      "\n",
      "    accuracy                           0.90      4611\n",
      "   macro avg       0.89      0.88      0.88      4611\n",
      "weighted avg       0.90      0.90      0.90      4611\n",
      "\n",
      "[[2827  224]\n",
      " [ 254 1306]]\n"
     ]
    }
   ],
   "source": [
    "model5.fit(x_train, y_train)\n",
    "y_pred5 = model5.predict(x_test)\n",
    "print(classification_report(y_test, y_pred5))\n",
    "print(confusion_matrix(y_test,y_pred5))"
   ]
  },
  {
   "cell_type": "code",
   "execution_count": 76,
   "id": "9f580d26-18a5-48ad-adb7-0796bba5c152",
   "metadata": {},
   "outputs": [
    {
     "name": "stdout",
     "output_type": "stream",
     "text": [
      "1/1 [==============================] - 2s 2s/step\n",
      "Review: This airline is great, Prediction: Recommended\n",
      "Review: Not a good experience, Prediction: Not Recommended\n"
     ]
    }
   ],
   "source": [
    "# Sample input data\n",
    "input_data = [['This airline is great', 9, 5, 4], ['Not a good experience', 2, 3, 2]]\n",
    "\n",
    "# Create a DataFrame with the input data\n",
    "input_df = pd.DataFrame(input_data, columns=['Review', 'Overall_Rating', 'Cabin Staff Service', 'Food & Beverages'])\n",
    "\n",
    "# Preprocess the input data\n",
    "# 1. Use the same TfidfVectorizer that you used for training data\n",
    "rev_tfidf = v1.transform(input_df[\"Review\"])\n",
    "\n",
    "# 2. Concatenate the text features and numerical features\n",
    "x_input = pd.concat([pd.DataFrame(rev_tfidf.toarray()), input_df.drop(columns=[\"Review\"])], axis=1)\n",
    "x_input.columns = x_input.columns.astype(str)\n",
    "\n",
    "# Predict \"Recommended\" for the input data\n",
    "y_pred_input = model1.predict(x_input)\n",
    "\n",
    "# Selecting 0.5 as a threshold in model1\n",
    "for i, review in enumerate(input_data):\n",
    "    if(y_pred_input[i]<=0.5):    \n",
    "        print(f'Review: {review[0]}, Prediction: Not Recommended')\n",
    "    if(y_pred_input[i]>0.5):\n",
    "        print(f'Review: {review[0]}, Prediction: Recommended')\n",
    "    "
   ]
  },
  {
   "cell_type": "code",
   "execution_count": 77,
   "id": "a9a75351-664b-4ece-b85d-f87288268e88",
   "metadata": {},
   "outputs": [],
   "source": [
    "columns=['Review', 'Overall_Rating', 'Cabin_Staff_Service', 'Food_Beverages']\n",
    "\n",
    "# Save the trained TF-IDF vectorizer\n",
    "with open('tfidf_vectorizer.pkl', 'wb') as f:\n",
    "    pickle.dump(v1, f)\n",
    "\n",
    "# Save the trained Random Forest classifier\n",
    "with open('model.pkl', 'wb') as f:\n",
    "    pickle.dump(model2, f)\n",
    "\n",
    "# Save the column names of the feature matrix\n",
    "with open('column_names.pkl', 'wb') as f:\n",
    "    pickle.dump(columns, f)"
   ]
  },
  {
   "cell_type": "code",
   "execution_count": null,
   "id": "6b65675c-16c7-4f4d-9248-56f16cba6083",
   "metadata": {},
   "outputs": [],
   "source": []
  }
 ],
 "metadata": {
  "kernelspec": {
   "display_name": "Python 3 (ipykernel)",
   "language": "python",
   "name": "python3"
  },
  "language_info": {
   "codemirror_mode": {
    "name": "ipython",
    "version": 3
   },
   "file_extension": ".py",
   "mimetype": "text/x-python",
   "name": "python",
   "nbconvert_exporter": "python",
   "pygments_lexer": "ipython3",
   "version": "3.11.4"
  }
 },
 "nbformat": 4,
 "nbformat_minor": 5
}
